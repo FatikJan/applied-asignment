{
 "cells": [
  {
   "cell_type": "code",
   "execution_count": null,
   "id": "8c438ab7",
   "metadata": {},
   "outputs": [
    {
     "data": {
      "text/html": [
       "        <script type=\"text/javascript\">\n",
       "        window.PlotlyConfig = {MathJaxConfig: 'local'};\n",
       "        if (window.MathJax) {MathJax.Hub.Config({SVG: {font: \"STIX-Web\"}});}\n",
       "        if (typeof require !== 'undefined') {\n",
       "        require.undef(\"plotly\");\n",
       "        requirejs.config({\n",
       "            paths: {\n",
       "                'plotly': ['https://cdn.plot.ly/plotly-2.4.2.min']\n",
       "            }\n",
       "        });\n",
       "        require(['plotly'], function(Plotly) {\n",
       "            window._Plotly = Plotly;\n",
       "        });\n",
       "        }\n",
       "        </script>\n",
       "        "
      ]
     },
     "metadata": {},
     "output_type": "display_data"
    }
   ],
   "source": [
    "import numpy as np \n",
    "import pandas as pd \n",
    "import random\n",
    "from collections import Counter\n",
    "\n",
    "# for visualizations\n",
    "import matplotlib.pyplot as plt\n",
    "import seaborn as sns\n",
    "from pandas import plotting\n",
    "from pandas.plotting import parallel_coordinates\n",
    "\n",
    "# for interactive visualizations\n",
    "import plotly.offline as py\n",
    "from plotly.offline import init_notebook_mode, iplot\n",
    "import plotly.graph_objs as go\n",
    "from plotly import tools\n",
    "init_notebook_mode(connected = True)\n",
    "import plotly.figure_factory as ff"
   ]
  },
  {
   "cell_type": "code",
   "execution_count": null,
   "id": "0398c33d",
   "metadata": {},
   "outputs": [],
   "source": [
    "dc = pd.read_csv('dc-wikia-data.csv')\n",
    "dc.head()"
   ]
  },
  {
   "cell_type": "code",
   "execution_count": null,
   "id": "bd344e6e",
   "metadata": {},
   "outputs": [],
   "source": [
    "marvel = pd.read_csv('marvel-wikia-data.csv')\n",
    "marvel.head()"
   ]
  },
  {
   "cell_type": "code",
   "execution_count": null,
   "id": "d6928e51",
   "metadata": {},
   "outputs": [],
   "source": [
    "dc.isnull().sum()"
   ]
  },
  {
   "cell_type": "code",
   "execution_count": null,
   "id": "264654a1",
   "metadata": {},
   "outputs": [],
   "source": [
    "dc['ID'] = dc['ID'].fillna(dc['ID'].mode()[0])\n",
    "dc['ALIGN'] = dc['ALIGN'].fillna(dc['ALIGN'].mode()[0])\n",
    "dc['EYE'].fillna(dc['EYE'].mode()[0], inplace = True)\n",
    "dc['HAIR'].fillna(dc['HAIR'].mode()[0], inplace = True)\n",
    "dc['SEX'].fillna(dc['SEX'].mode()[0], inplace = True)\n",
    "dc['ALIVE'].fillna(dc['ALIVE'].mode()[0], inplace = True)\n",
    "dc['APPEARANCES'].fillna(dc['APPEARANCES'].mode()[0], inplace = True)\n",
    "dc['FIRST APPEARANCE'].fillna(dc['FIRST APPEARANCE'].mode()[0], inplace = True)\n",
    "dc['YEAR'].fillna(dc['YEAR'].mode()[0], inplace = True)\n",
    "\n",
    "marvel['ID'] = marvel['ID'].fillna(marvel['ID'].mode()[0])\n",
    "marvel['ALIGN'] = marvel['ALIGN'].fillna(marvel['ALIGN'].mode()[0])\n",
    "marvel['EYE'].fillna(marvel['EYE'].mode()[0], inplace = True)\n",
    "marvel['HAIR'].fillna(marvel['HAIR'].mode()[0], inplace = True)\n",
    "marvel['SEX'].fillna(marvel['SEX'].mode()[0], inplace = True)\n",
    "marvel['ALIVE'].fillna(marvel['ALIVE'].mode()[0], inplace = True)\n",
    "marvel['APPEARANCES'].fillna(marvel['APPEARANCES'].mode()[0], inplace = True)\n",
    "marvel['FIRST APPEARANCE'].fillna(marvel['FIRST APPEARANCE'].mode()[0], inplace = True)\n",
    "marvel['Year'].fillna(marvel['Year'].mode()[0], inplace = True)"
   ]
  },
  {
   "cell_type": "code",
   "execution_count": null,
   "id": "6b1e695a",
   "metadata": {},
   "outputs": [],
   "source": [
    "plt.style.use('fivethirtyeight')\n",
    "plt.rcParams['figure.figsize'] = (20, 10)\n",
    "plt.subplot(2, 1, 1)\n",
    "sns.violinplot(dc['ID'], dc['YEAR'], hue = dc['ALIGN'], palette = 'PuRd')\n",
    "plt.xlabel(' ')\n",
    "plt.title('DC', fontsize = 30)\n",
    "plt.subplot(2, 1, 2)\n",
    "sns.violinplot(marvel['ID'], marvel['Year'], hue = marvel['ALIGN'], palette = 'copper')\n",
    "plt.title('MARVEL', fontsize = 30)\n",
    "plt.show()"
   ]
  },
  {
   "cell_type": "code",
   "execution_count": null,
   "id": "7f2c2015",
   "metadata": {},
   "outputs": [],
   "source": [
    "plt.rcParams['figure.figsize'] = (20, 8)\n",
    "plt.style.use('fivethirtyeight')\n",
    "\n",
    "dc['APPEARANCES'].fillna(0, inplace = True)\n",
    "marvel['APPEARANCES'].fillna(0, inplace = True)\n",
    "\n",
    "import warnings\n",
    "warnings.filterwarnings('ignore')\n",
    "\n",
    "plt.subplot(1, 2, 1)\n",
    "sns.kdeplot(dc['APPEARANCES'], color = 'green')\n",
    "plt.title('DC')\n",
    "\n",
    "plt.subplot(1, 2, 2)\n",
    "sns.kdeplot(marvel['APPEARANCES'], color = 'skyblue')\n",
    "plt.title('Marvel')\n",
    "\n",
    "plt.suptitle('Appearances comparison vs DC and Marvel', fontsize = 20)\n",
    "plt.show()"
   ]
  },
  {
   "cell_type": "code",
   "execution_count": null,
   "id": "c1cc006c",
   "metadata": {
    "scrolled": true
   },
   "outputs": [],
   "source": [
    "trace1 = go.Histogram(\n",
    "         x = dc['ID'],\n",
    "         name = 'DC',\n",
    "         opacity = 0.75,\n",
    "         marker = dict(\n",
    "               color = 'rgb(52, 85, 159, 0.6)'\n",
    "         )\n",
    ")\n",
    "trace2 = go.Histogram(\n",
    "          x = marvel['ID'],\n",
    "          name = 'Marvel',\n",
    "          opacity = 0.75,\n",
    "          marker = dict(\n",
    "                 color = 'rgb(84, 52, 15, 0.6)'\n",
    "          )\n",
    ")\n",
    "data = [trace1, trace2]\n",
    "\n",
    "layout = go.Layout(\n",
    "    barmode = 'group',\n",
    "    title = 'Comparison of Identities')\n",
    "\n",
    "fig = go.Figure(data = data, layout = layout)\n",
    "py.iplot(fig)"
   ]
  },
  {
   "cell_type": "code",
   "execution_count": null,
   "id": "8b7ae5db",
   "metadata": {},
   "outputs": [],
   "source": [
    "trace = go.Box(\n",
    "            x = dc['ALIGN'],\n",
    "            y = dc['APPEARANCES'],\n",
    "            name = 'DC',\n",
    "            marker = dict(\n",
    "                  color = 'rgb(145, 65, 75)')\n",
    ")\n",
    "                   \n",
    "\n",
    "trace2 = go.Box(\n",
    "            x = marvel['ALIGN'],\n",
    "            y = marvel['APPEARANCES'],\n",
    "            name = 'Marvel',\n",
    "            marker = dict(\n",
    "                   color = 'rgb(2, 15, 85)'),\n",
    "\n",
    "              )\n",
    "\n",
    "data = [trace, trace2]\n",
    "\n",
    "layout = go.Layout(\n",
    "    boxmode = 'group',\n",
    "    title = 'Character vs Appearances')\n",
    "\n",
    "fig = go.Figure(data = data, layout = layout)\n",
    "py.iplot(fig)"
   ]
  },
  {
   "cell_type": "code",
   "execution_count": null,
   "id": "05140691",
   "metadata": {},
   "outputs": [],
   "source": [
    "dcdist = dc['SEX'].value_counts()\n",
    "marveldist = marvel['SEX'].value_counts()\n",
    "dctrace = go.Pie(labels = dcdist.index, values = dcdist.values, name = 'DC', domain = {\"column\": 0})\n",
    "marveltrace = go.Pie(labels = marveldist.index, values = marveldist.values, name = 'Marvel', domain = {\"column\": 1})\n",
    "layout = go.Layout(title = 'Gender Distributions of DC and Marvel Respectively', width = 750, grid = {\"rows\": 1, \"columns\": 2})\n",
    "py.iplot(go.Figure(data = [dctrace, marveltrace], layout = layout))"
   ]
  },
  {
   "cell_type": "code",
   "execution_count": null,
   "id": "4e33aa90",
   "metadata": {},
   "outputs": [],
   "source": [
    "dcdist = dc['ALIVE'].value_counts() \n",
    "marveldist = marvel['ALIVE'].value_counts()\n",
    "dctrace = go.Bar(x = dcdist.index, y = dcdist.values, name = 'DC', marker=dict(color='rgb(20,61,89)'))\n",
    "marveltrace = go.Bar(x = marveldist.index, y = marveldist.values, name = 'Marvel', marker=dict(color='rgb(244,180,26)'))\n",
    "py.iplot(go.Figure(data = [dctrace, marveltrace], layout = go.Layout(title = 'Mortality Distribution', width=600, barmode='stack')))"
   ]
  },
  {
   "cell_type": "code",
   "execution_count": null,
   "id": "485c3a3c",
   "metadata": {},
   "outputs": [],
   "source": []
  }
 ],
 "metadata": {
  "kernelspec": {
   "display_name": "Python 3 (ipykernel)",
   "language": "python",
   "name": "python3"
  },
  "language_info": {
   "codemirror_mode": {
    "name": "ipython",
    "version": 3
   },
   "file_extension": ".py",
   "mimetype": "text/x-python",
   "name": "python",
   "nbconvert_exporter": "python",
   "pygments_lexer": "ipython3",
   "version": "3.9.7"
  }
 },
 "nbformat": 4,
 "nbformat_minor": 5
}
